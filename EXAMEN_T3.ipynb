{
  "cells": [
    {
      "cell_type": "markdown",
      "metadata": {
        "id": "DMoOyXltGNoU"
      },
      "source": [
        "# EXAMEN TEMA 3: CONDICINALS I BUCLES"
      ]
    },
    {
      "cell_type": "markdown",
      "metadata": {
        "id": "MRSqjQGGEAzB"
      },
      "source": []
    },
    {
      "cell_type": "code",
      "execution_count": null,
      "metadata": {
        "id": "7IcTSFrZGLbY"
      },
      "outputs": [],
      "source": []
    },
    {
      "cell_type": "markdown",
      "metadata": {
        "id": "51QWqaM0Gwfr"
      },
      "source": [
        "**EXERCICI 1 [3 punts]** *texto en cursiva*\n",
        "\n",
        "Després d'un any dur a l'institut, decideixes descansar una mica en vacances. Així que reservaràs un vol per a tu i la teva parella i intentaràs deixar tot el desastre enrere.\n",
        "\n",
        "Necessitaràs un cotxe de lloguer per poder moure't durant les teves vacances. El gerent del lloguer de cotxes et fa un pressupost amb les següents condicions.\n",
        "\n",
        "Cada dia que llogueu el cotxe val 40 euros. Si llogueu el cotxe durant 7 o més dies, obtindreu 50 € de descompte en el preu total a pagar. D'altra banda, si llogueu el cotxe durant 3 o més dies, obtindreu 20 € de descompte en el preu total a pagar.\n",
        "\n",
        "Per altra banda, l'empresa us informa que cobrarà 100 € anticipats per la gasolina i 50€ pels peatges.\n",
        "Al final, si retorneu el diposit ple, us retornen aquests 100€ i, dels altres 50€, us restaran el preu dels peatges pels que heu passat durant aquests dies.\n",
        "\n",
        "Escriu un programa per aquesta empresa que indiqui l'import total per a diferents dies, a més,  una vegada retornat el cotxe, que també digui quants diners us retornen dels 150€ (100€ gasolina + 50€ peatges).\n",
        "\n",
        "Un cop faci el pressupost, el programa s'ha d'acabar si encara no s'ha retornat el cotxe, en cas contrari, ha de continuar demanant les dades del retorn del cotxe.\n",
        "\n"
      ]
    },
    {
      "cell_type": "code",
      "execution_count": null,
      "metadata": {
        "colab": {
          "base_uri": "https://localhost:8080/"
        },
        "id": "cplkbx95KcRC",
        "outputId": "d7ff302b-b763-42b0-a4f6-be30f4325224"
      },
      "outputs": [
        {
          "ename": "",
          "evalue": "",
          "output_type": "error",
          "traceback": [
            "\u001b[1;31mRunning cells with 'c:\\Users\\PauGiuliLópez\\AppData\\Local\\Microsoft\\WindowsApps\\python3.11.exe' requires the ipykernel package.\n",
            "\u001b[1;31mRun the following command to install 'ipykernel' into the Python environment. \n",
            "\u001b[1;31mCommand: 'c:/Users/PauGiuliLópez/AppData/Local/Microsoft/WindowsApps/python3.11.exe -m pip install ipykernel -U --user --force-reinstall'"
          ]
        }
      ],
      "source": [
        "dies = int(input('Introdueix la quantitat de dies: '))\n",
        "\n",
        "gasolina = 100\n",
        "peatges = 50\n",
        "descompte = 0\n",
        "inicial = dies * 40\n",
        "if dies >= 7:\n",
        "  descompte = -50\n",
        "  inicial -= 50\n",
        "elif dies >= 3:\n",
        "  descompte = -20\n",
        "  inicial -= 20\n",
        "\n",
        "inicial += peatges+gasolina\n",
        "\n",
        "print(f\"\"\"\n",
        "Pressupost inicial:\n",
        "-Dies: {dies}, {dies*40}€\n",
        "-Descompte: {descompte}€\n",
        "-Gasolina: {gasolina}€\n",
        "-Peatges: {peatges}€\n",
        "--- Total inicial: {inicial}€ ---\n",
        "\"\"\")\n",
        "\n",
        "\n",
        "has_returned = input(\"Ha retornat el cotxe? (True/False) \")\n",
        "#print(has_returned)\n",
        "if has_returned == \"True\":\n",
        "  diposit = input('Ha retornat ple? (True/False) ')\n",
        "  preupeatges = int(input('Quant ha pagat per peatges? '))\n",
        "\n",
        "  lines = []\n",
        "  if has_returned:\n",
        "    if diposit == \"True\":\n",
        "      gasolina = 100\n",
        "      lines.append(f\"- Retorn per gasolina: 100€\")\n",
        "    lines.append(f\"- Retorn per peatges: {peatges-preupeatges}€\")\n",
        "\n",
        "\n",
        "  if diposit == \"True\":\n",
        "    retorntotal = (peatges-preupeatges) + gasolina\n",
        "    output = f\"\"\"\n",
        "Comptes finals:\n",
        "{lines[0]}\n",
        "{lines[1]}\n",
        "\"\"\"\n",
        "  else:\n",
        "    retorntotal = (peatges-preupeatges)\n",
        "    output = f\"\"\"\n",
        "Comptes finals:\n",
        "{lines[0]}\n",
        "\"\"\"\n",
        "  if retorntotal < 0:\n",
        "    retornline = f'--- A pagar: {retorntotal}€ ---'\n",
        "  else:\n",
        "    retornline = f'--- Retorn total: {retorntotal}€ ---'\n",
        "\n",
        "  print(output)\n",
        "  print(retornline)\n",
        "else:\n",
        "  print(\"Encara no ha retornat!\")"
      ]
    },
    {
      "cell_type": "markdown",
      "metadata": {
        "id": "iDky5HwtCkZ6"
      },
      "source": [
        "**EXERCICI 3 [2 PUNTS]**\n",
        "\n",
        "T'han demanat crear un menú amb cinc opcions (les que tu consideris). Cada opció ha de realitzar una tasca en concret (missatge, càlcul, etc). Una vegada realitzada l'acció, torna al menú principal. Si escull una opció incorrecta, se li ha d'informar de l'error i s'ha de tornar a mostrar el menú. Una de les opcions ha de ser finalitzar el programa."
      ]
    },
    {
      "cell_type": "code",
      "execution_count": null,
      "metadata": {
        "colab": {
          "base_uri": "https://localhost:8080/"
        },
        "id": "ysiIrQTX6qFU",
        "outputId": "2542376b-192d-429b-d2d2-d457e6b7d3b9"
      },
      "outputs": [
        {
          "name": "stdout",
          "output_type": "stream",
          "text": [
            "\n",
            "------\n",
            "1- Majúscules\n",
            "2- Minúscules\n",
            "3- Quantes caràcters?\n",
            "4- Divisió\n",
            "5- Nombre aleatori\n",
            "#- Sortir\n",
            "------\n",
            "\n",
            "Introdueix una opció: 6\n",
            "Escull una opció correcta capdesuro!\n",
            "Introdueix una opció: #\n"
          ]
        }
      ],
      "source": [
        "menu = \"\"\"\n",
        "------\n",
        "1- Majúscules\n",
        "2- Minúscules\n",
        "3- Quantes caràcters?\n",
        "4- Divisió\n",
        "5- Nombre aleatori\n",
        "#- Sortir\n",
        "------\n",
        "\"\"\"\n",
        "print(menu)\n",
        "while True:\n",
        "  a = input(\"Introdueix una opció: \")\n",
        "  if a == '#':\n",
        "    break\n",
        "  match a:\n",
        "    case \"1\":\n",
        "      b = input('Introdueix un string: ')\n",
        "      print(b.upper())\n",
        "    case \"2\":\n",
        "      b = input('Introdueix un string: ')\n",
        "      print(b.lower())\n",
        "    case \"3\":\n",
        "      b = input('Introdueix un string: ')\n",
        "      print(len(b))\n",
        "    case \"4\":\n",
        "      divident = int(input('Introdeix el divident: '))\n",
        "      divisor = int(input('Introdeix el divisor: '))\n",
        "      residu = divident % divisor\n",
        "      quocient = (divident-residu) / divisor\n",
        "      print(f\"Quocient: {round(quocient)}, Residu: {residu}\")\n",
        "    case \"5\":\n",
        "      from random import randint\n",
        "      rang = int(input(\"Introdueix el rang: \"))\n",
        "      b = randint(0, rang)\n",
        "      print(f\"El nombre és: {b}\")\n",
        "    case _:\n",
        "      print('Escull una opció correcta capdesuro!')\n"
      ]
    },
    {
      "cell_type": "markdown",
      "metadata": {
        "id": "apEZ8L2OfCSP"
      },
      "source": [
        "**EXERCICI 3 [2 PUNTS]**\n",
        "\n",
        "\n",
        "Necessites fer un petit programa que permeti l'accés amb contrassenya a un lloc web. Aquest programa ha de reconèixer una contrassenya pre-definida dues vegades (això s'en diu verificació doble) però només t'ha de deixar realitzar tres intents.\n",
        "\n",
        "El programa ha d'avisar dels intents que li queden a l'usuari. Si supera el nom d'intents, caldrà que es tanqui el programa."
      ]
    },
    {
      "cell_type": "code",
      "execution_count": null,
      "metadata": {
        "colab": {
          "base_uri": "https://localhost:8080/"
        },
        "id": "MsTGJLn1Dk2T",
        "outputId": "b4e1ef2e-42a6-4261-9ea9-e718bf7b3426"
      },
      "outputs": [
        {
          "name": "stdout",
          "output_type": "stream",
          "text": [
            "Introdueix la contrasenya (Intents restants 3): scadme\n",
            "Introdueix la contrasenya (Intents restants 2): smam\n",
            "Introdueix la contrasenya (Intents restants 1): sacadmedeaqui\n",
            "Nao nao...\n"
          ]
        }
      ],
      "source": [
        "intents = 3\n",
        "passw = '1606'\n",
        "\n",
        "corr = 0\n",
        "\n",
        "while intents > 0:\n",
        "  if corr == 2:\n",
        "    break\n",
        "  attempt = input(f'Introdueix la contrasenya (Intents restants {intents}): ')\n",
        "  if attempt == passw:\n",
        "    corr += 1\n",
        "  intents -= 1\n",
        "#No sé si interpretar el enunciat per a restar o no tot i la contrasenya ser correcta :C\n",
        "\n",
        "if corr == 2:\n",
        "  print('Accés concedit.')\n",
        "else:\n",
        "  print('Nao nao...')"
      ]
    },
    {
      "cell_type": "markdown",
      "metadata": {
        "id": "WCuouDTYDlWq"
      },
      "source": [
        "**EXERCICI 4 [2 PUNTS]**\n",
        "\n",
        "Escriviu un programa que calculi el valor de x per al qual la funció f(x)=x2−6x+3 obté el resultat més baix. Centreu la cerca en el rang [−9,9] només amb valors sencers."
      ]
    },
    {
      "cell_type": "code",
      "execution_count": null,
      "metadata": {
        "colab": {
          "base_uri": "https://localhost:8080/"
        },
        "id": "y1C4AjFuClFu",
        "outputId": "6144c6b2-04f7-4cc6-d923-34648b4bd3a5"
      },
      "outputs": [
        {
          "name": "stdout",
          "output_type": "stream",
          "text": [
            "El mínim es troba quan x=3\n"
          ]
        }
      ],
      "source": [
        "results = []\n",
        "vals = []\n",
        "for i in range(-9, 10):\n",
        "  results.append(i**2 - i*6 + 3)\n",
        "  vals.append(i)\n",
        "\n",
        "index = results.index(min(results))\n",
        "print(f\"El mínim es troba quan x={vals[index]}\")"
      ]
    }
  ],
  "metadata": {
    "colab": {
      "provenance": []
    },
    "kernelspec": {
      "display_name": "Python 3",
      "name": "python3"
    },
    "language_info": {
      "name": "python",
      "version": "3.11.6"
    }
  },
  "nbformat": 4,
  "nbformat_minor": 0
}
