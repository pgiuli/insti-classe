{
  "nbformat": 4,
  "nbformat_minor": 0,
  "metadata": {
    "colab": {
      "provenance": []
    },
    "kernelspec": {
      "name": "python3",
      "display_name": "Python 3"
    },
    "language_info": {
      "name": "python"
    }
  },
  "cells": [
    {
      "cell_type": "markdown",
      "source": [
        "# **EXAMEN DE PROGRAMACIÓ I ROBÒTICA - TEMA2**\n",
        "\n",
        "---\n",
        "\n"
      ],
      "metadata": {
        "id": "TAAO-e2IKuLs"
      }
    },
    {
      "cell_type": "markdown",
      "source": [
        "**EXERCICI 1 [2 punts]**\n",
        "\n",
        "Una botiga de joguines té molt èxit en dos dels seus productes: pallassos i nines. Sol fer venda per correu i l'empresa de logística els cobra per pes de cada paquet així que han de calcular el pes dels pallassos i nines que sortiran a cada paquet a demanda. Cada pallasso pesa 112 g i cada canell 75 g. Al final l'empresa de logística els cobra 7 cèntims € per cada 125gr de pes de paquet.  Escriure un programa que llegeixi el nombre de pallassos i nines venuts a l'última comanda, calculi el pes total del paquet que serà enviat i le preu a pagar pel transport."
      ],
      "metadata": {
        "id": "QJ8xxhHcq7hM"
      }
    },
    {
      "cell_type": "markdown",
      "source": [
        "**EXERCICI 2 [ punts]**\n",
        "\n",
        "Un apicultor que té una granja d'abelles necessita tenir controlada la població d'aquestes en funció dels dies que van passant.\n",
        "\n",
        "La població d'aquesta colònia d'abelles es pot calcular amb aquesta equació:\n",
        "\n",
        "\n",
        "![abejas.PNG](data:image/png;base64,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)\n",
        "\n",
        "on X mesura els dies després de l’inici de la creació del rusc (niu).\n",
        "\n",
        "Cal que feu un programa per calcular la població del rusc després d'un nombre determinat de dies.\n"
      ],
      "metadata": {
        "id": "nKTdiXjBNJ7s"
      }
    },
    {
      "cell_type": "markdown",
      "source": [
        "**EXERCICI 3 [3 punts]**\n",
        "\n",
        "Tres amics es possen a jugar al joc de cartes *La Brisca*, aquesta joc té la peculiaritat que es juga amb cartes espanyoles (4 pals de 12 cartes) on només 5 cartes de cada pal tenen puntuació, la resta no serveix de res.\n",
        "\n",
        "La puntuació d'aquestes cartes és la següent:\n",
        "\n",
        "AS: 11 punts\n",
        "\n",
        "TRES: 10 punts\n",
        "\n",
        "REI: 4 punts\n",
        "\n",
        "CAVALL: 3 punts\n",
        "\n",
        "SOTA: 2 punts\n",
        "\n",
        "La puntuació total és de 120 punts. Escriu un programa on dos jugadors pugui introduir les seves cartes i sàpiga la puntuació total que tenen tots tres.\n"
      ],
      "metadata": {
        "id": "DxRuT2dgXWwm"
      }
    },
    {
      "cell_type": "markdown",
      "source": [
        "**EXERCICI 4 [3 punts]**\n",
        "\n",
        "Quan la terra completa una orbita al voltant del sol, no ha transcorregut exactament 365 rotacions sobre si mateixa, sino una mica més. En concret la diferència és un quart de dia.\n",
        "\n",
        "Per evitar que les estacions es desfasin amb el calendari, el calendari julià va introduir la regla d'afegir un dia adicional en els *** anys divisibles per 4*** (anomenats de traspàs (bisiesto en castellà)).\n",
        "\n",
        "Tot i això, sota aquesta regla encara hi ha un desfase que és aproximadament 3/400 dies.\n",
        "\n",
        "Per corregir aquest desfas, a l'any 1582 el papa Gregori XIII va indroduir un nou calendari, en aquesta cas, ***l'ultim any de segle(pe. 1600, 1700, etc...) deixava de ser de traspàs a no ser que fos divisible entre 400. ***\n",
        "\n",
        "**Escriu un programa que indiqui si un any es de traspàs o no, tenint en compte quin era el calendari vigent durant aquell any (abans de 1582 i després)**"
      ],
      "metadata": {
        "id": "hkDwv-DwK4GX"
      }
    },
    {
      "cell_type": "markdown",
      "source": [
        "Activitat 1\n",
        "\n",
        "\n",
        "```\n",
        "Introdueix el nombre de pallassos: 1\n",
        "Introdueix el nombre de nines: 1\n",
        "El preu de l'enviament és de 0.14 EUR.\n",
        "```\n",
        "\n"
      ],
      "metadata": {
        "id": "Ulhuo47MS276"
      }
    },
    {
      "cell_type": "code",
      "source": [
        "\n",
        "import math\n",
        "\n",
        "pallassos = int(input(\"Introdueix el nombre de pallassos: \"))\n",
        "nines = int(input(\"Introdueix el nombre de nines: \"))\n",
        "\n",
        "pes = nines * 75 + pallassos * 112\n",
        "\n",
        "num125 = pes / 125\n",
        "preu = round(math.ceil(num125) * .07,2)\n",
        "\n",
        "print(f\"El preu de l'enviament és de {preu} EUR.\")"
      ],
      "metadata": {
        "colab": {
          "base_uri": "https://localhost:8080/"
        },
        "id": "agdnQ8mJS4kX",
        "outputId": "3d118fb5-521a-4d04-d77a-58d612485d81"
      },
      "execution_count": null,
      "outputs": [
        {
          "output_type": "stream",
          "name": "stdout",
          "text": [
            "Introdueix el nombre de pallassos: 1\n",
            "Introdueix el nombre de nines: 1\n",
            "El preu de l'enviament és de 0.14 EUR.\n"
          ]
        }
      ]
    },
    {
      "cell_type": "markdown",
      "source": [
        "Activitat 2\n",
        "\n",
        "\n",
        "```\n",
        "Introdueix el nombre de dies de la colònia: 3\n",
        "La població de la colònia és de 224 abelles.\n",
        "```\n",
        "\n"
      ],
      "metadata": {
        "id": "mw20WzOSS5Dh"
      }
    },
    {
      "cell_type": "code",
      "source": [
        "dies = int(input(\"Introdueix el nombre de dies de la colònia: \"))\n",
        "\n",
        "pob = (100 * dies**0.5) + (201/(dies+1)) + 1\n",
        "\n",
        "print(f\"La població de la colònia és de {round(pob)} abelles.\")"
      ],
      "metadata": {
        "colab": {
          "base_uri": "https://localhost:8080/"
        },
        "id": "Tl3BLVh2S5bA",
        "outputId": "86627b37-2210-4d45-f280-af8ed4039d0b"
      },
      "execution_count": null,
      "outputs": [
        {
          "output_type": "stream",
          "name": "stdout",
          "text": [
            "Introdueix el nombre de dies de la colònia: 3\n",
            "La població de la colònia és de 224 abelles.\n"
          ]
        }
      ]
    },
    {
      "cell_type": "markdown",
      "source": [
        "Activitat 3\n",
        "Introdueix les cartes d'aquesta manera:\n",
        "\n",
        "(Es poden introduir cartes que no tenen una puntuació sense afectar la resta)\n",
        "\n",
        "```\n",
        "Introdueix les cartes del primer jugador (separat amb espais): sota cavall rei cinc quatre\n",
        "Introdueix les cartes del segon jugador (separat amb espais): as sis vuit nou\n",
        "\n",
        "Puntuació Jugador 1: 9\n",
        "Puntuació Jugador 2: 11\n",
        "Puntuació Jugador 3: 100\n",
        "```\n",
        "\n"
      ],
      "metadata": {
        "id": "wJBMYxuBS5ud"
      }
    },
    {
      "cell_type": "code",
      "source": [
        "player1 = input(\"Introdueix les cartes del primer jugador (separat amb espais): \")\n",
        "player1 = player1.split(' ')\n",
        "player2 = input(\"Introdueix les cartes del segon jugador (separat amb espais): \")\n",
        "player2 = player2.split(' ')\n",
        "\n",
        "score1 = 0\n",
        "score2 = 0\n",
        "\n",
        "puntuacions = {\n",
        "    'tres': 10,\n",
        "    'as': 11,\n",
        "    'rei': 4,\n",
        "    'sota': 2,\n",
        "    'cavall': 3\n",
        "}\n",
        "\n",
        "for i in player1:\n",
        "  if puntuacions.get(i) != None:\n",
        "    score1 += puntuacions.get(i)\n",
        "\n",
        "for i in player2:\n",
        "  if puntuacions.get(i) != None:\n",
        "    score2 += puntuacions.get(i)\n",
        "\n",
        "if score1 + score2 > 118:\n",
        "  print('Error en la introducció de les dades, torna a provar-ho')\n",
        "\n",
        "else:\n",
        "  score3 = 120 - (score1 + score2)\n",
        "\n",
        "  print(f\"\"\"\n",
        "  Puntuació Jugador 1: {score1}\n",
        "  Puntuació Jugador 2: {score2}\n",
        "  Puntuació Jugador 3: {score3}\n",
        "  \"\"\")\n"
      ],
      "metadata": {
        "colab": {
          "base_uri": "https://localhost:8080/"
        },
        "id": "XbnV-f6iS6GB",
        "outputId": "a8d9532e-cdc0-438b-f091-18a72c033b9b"
      },
      "execution_count": null,
      "outputs": [
        {
          "name": "stdout",
          "output_type": "stream",
          "text": [
            "Introdueix les cartes del primer jugador (separat amb espais): as cinc as tres sota\n",
            "Introdueix les cartes del segon jugador (separat amb espais): cavall rei rei rei rei\n"
          ]
        }
      ]
    },
    {
      "cell_type": "markdown",
      "source": [
        "Activitat 4\n",
        "\n",
        "\n",
        "```\n",
        "Introdueix l'any actual: 1500\n",
        "Traspàs.\n",
        "```\n",
        "```\n",
        "Introdueix l'any actual: 1700\n",
        "Regular.\n",
        "```\n",
        "```\n",
        "Introdueix l'any actual: 1600\n",
        "Traspàs.\n",
        "```\n",
        "\n",
        "\n",
        "\n",
        "\n",
        "\n"
      ],
      "metadata": {
        "id": "m-uxNiFeS6Vm"
      }
    },
    {
      "cell_type": "code",
      "source": [
        "any = int(input(\"Introdueix l'any actual: \"))\n",
        "\n",
        "if any < 1582:\n",
        "  if any % 4 == 0:\n",
        "    print('Traspàs.')\n",
        "  else:\n",
        "    print('Regular.')\n",
        "\n",
        "\n",
        "else:\n",
        "  if any % 4 == 0:\n",
        "    if any % 100 == 0:\n",
        "      if any % 400 == 0:\n",
        "        print('Traspàs.')\n",
        "      else:\n",
        "        print('Regular.')\n",
        "    else:\n",
        "      print('Traspàs')\n",
        "  else:\n",
        "    print('Regular.')\n",
        "\n",
        "\n"
      ],
      "metadata": {
        "colab": {
          "base_uri": "https://localhost:8080/"
        },
        "id": "FNf03sdpS7BA",
        "outputId": "f9411b0f-78c0-4961-f6b6-7ad8b04884dd"
      },
      "execution_count": null,
      "outputs": [
        {
          "output_type": "stream",
          "name": "stdout",
          "text": [
            "Introdueix l'any actual: 1500\n",
            "Any de traspàs.\n"
          ]
        }
      ]
    }
  ]
}